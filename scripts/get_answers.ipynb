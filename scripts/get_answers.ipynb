{
 "cells": [
  {
   "cell_type": "code",
   "execution_count": 1,
   "id": "92ba26a9",
   "metadata": {},
   "outputs": [],
   "source": [
    "import warnings\n",
    "warnings.filterwarnings(\"ignore\")\n",
    "import numpy as np\n",
    "\n",
    "import tqdm.notebook as tq\n",
    "\n",
    "from Elastic import searchIndex as wiki_search_elastic\n",
    "from Elastic.searchIndex import *\n",
    "\n",
    "from subgraph_gen.subgraph_gen import *\n",
    "from sentence_processing.sentence_processing import *\n",
    "from relation_linking.relation_linking import *\n",
    "from query_construction.query_construction import *\n",
    "from evaluation.evaluate import *\n",
    "\n",
    "\n",
    "import pandas as pd\n",
    "import json\n",
    "\n"
   ]
  },
  {
   "cell_type": "code",
   "execution_count": 2,
   "id": "f877a006",
   "metadata": {},
   "outputs": [],
   "source": [
    "constrained_simple_questions = pd.read_csv(\"/home/krishanu/Work/phd_work/KGQA/annotated_questions/constrained_simple_questions_test.csv\", index_col= 0, encoding='latin-1')[:2]\n",
    "constrained_simple_questions[\"entities\"] = constrained_simple_questions[\"target\"] + \",\" + constrained_simple_questions[\"primary\"]\n",
    "constrained_simple_questions[\"entities\"] = constrained_simple_questions[\"entities\"].apply(lambda x: x.split(\",\"))"
   ]
  },
  {
   "cell_type": "code",
   "execution_count": 3,
   "id": "303a07ed",
   "metadata": {},
   "outputs": [],
   "source": [
    "simple_questions = pd.read_csv(\"/home/krishanu/Work/phd_work/KGQA/annotated_questions/simple_questions_test.csv\", index_col= 0, encoding='latin-1')[:2]\n",
    "simple_questions[\"entities\"] = simple_questions[\"primary\"]\n",
    "simple_questions[\"entities\"] = simple_questions[\"entities\"].apply(lambda x: x.split(\",\"))"
   ]
  },
  {
   "cell_type": "code",
   "execution_count": 4,
   "id": "3de9aabc",
   "metadata": {},
   "outputs": [
    {
     "data": {
      "application/vnd.jupyter.widget-view+json": {
       "model_id": "b73a685e55384f62bdececa955eeecbd",
       "version_major": 2,
       "version_minor": 0
      },
      "text/plain": [
       "  0%|          | 0/2 [00:00<?, ?it/s]"
      ]
     },
     "metadata": {},
     "output_type": "display_data"
    },
    {
     "data": {
      "application/vnd.jupyter.widget-view+json": {
       "model_id": "2b4df7d30f6e41a093ce48dae16d81d7",
       "version_major": 2,
       "version_minor": 0
      },
      "text/plain": [
       "  0%|          | 0/2 [00:00<?, ?it/s]"
      ]
     },
     "metadata": {},
     "output_type": "display_data"
    },
    {
     "data": {
      "text/plain": [
       "{'total_precision_ent': 0.8571425510206706,\n",
       " 'total_recall_ent': 0.9999995000005,\n",
       " 'total_f1_ent': 0.9230765325447393,\n",
       " 'total_precision_rel': 0.4999999999999999,\n",
       " 'total_recall_rel': 0.4999999999999999,\n",
       " 'total_f1_rel': 0.4999999999999999,\n",
       " 'total_precision_ans': 0.5714285102041341,\n",
       " 'total_recall_ans': 0.2666667599999627,\n",
       " 'total_f1_ans': 0.3636364380164884}"
      ]
     },
     "execution_count": 4,
     "metadata": {},
     "output_type": "execute_result"
    }
   ],
   "source": [
    "evaluate_method(simple_questions=simple_questions, simple_constrained_questions=constrained_simple_questions)"
   ]
  },
  {
   "cell_type": "code",
   "execution_count": 5,
   "id": "bfe63967",
   "metadata": {},
   "outputs": [
    {
     "ename": "TypeError",
     "evalue": "get_entities_relations_answers() missing 4 required positional arguments: 'text', 'semantic', 'domain_range', and 'query_correctness'",
     "output_type": "error",
     "traceback": [
      "\u001b[0;31m---------------------------------------------------------------------------\u001b[0m",
      "\u001b[0;31mTypeError\u001b[0m                                 Traceback (most recent call last)",
      "Cell \u001b[0;32mIn[5], line 2\u001b[0m\n\u001b[1;32m      1\u001b[0m question \u001b[38;5;241m=\u001b[39m \u001b[38;5;124m\"\u001b[39m\u001b[38;5;124mWhich genes are associated with Alzheimer\u001b[39m\u001b[38;5;124m'\u001b[39m\u001b[38;5;124ms disease?\u001b[39m\u001b[38;5;124m\"\u001b[39m\n\u001b[0;32m----> 2\u001b[0m \u001b[43mget_entities_relations_answers\u001b[49m\u001b[43m(\u001b[49m\u001b[43mquestion\u001b[49m\u001b[43m,\u001b[49m\u001b[43m \u001b[49m\u001b[43mnlp\u001b[49m\u001b[43m,\u001b[49m\u001b[43m \u001b[49m\u001b[43mmodel\u001b[49m\u001b[43m,\u001b[49m\u001b[43m \u001b[49m\u001b[43mfeature_extractor\u001b[49m\u001b[43m)\u001b[49m\n",
      "\u001b[0;31mTypeError\u001b[0m: get_entities_relations_answers() missing 4 required positional arguments: 'text', 'semantic', 'domain_range', and 'query_correctness'"
     ]
    }
   ],
   "source": [
    "question = \"Which genes are associated with Alzheimer's disease?\"\n",
    "get_entities_relations_answers(question, nlp, model, feature_extractor)"
   ]
  }
 ],
 "metadata": {
  "kernelspec": {
   "display_name": "Python 3 (ipykernel)",
   "language": "python",
   "name": "python3"
  },
  "language_info": {
   "codemirror_mode": {
    "name": "ipython",
    "version": 3
   },
   "file_extension": ".py",
   "mimetype": "text/x-python",
   "name": "python",
   "nbconvert_exporter": "python",
   "pygments_lexer": "ipython3",
   "version": "3.10.9"
  }
 },
 "nbformat": 4,
 "nbformat_minor": 5
}
