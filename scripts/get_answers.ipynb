{
 "cells": [
  {
   "cell_type": "code",
   "execution_count": 1,
   "id": "92ba26a9",
   "metadata": {},
   "outputs": [],
   "source": [
    "import warnings\n",
    "warnings.filterwarnings(\"ignore\")\n",
    "import numpy as np\n",
    "\n",
    "import tqdm.notebook as tq\n",
    "\n",
    "from Elastic import searchIndex as wiki_search_elastic\n",
    "from Elastic.searchIndex import *\n",
    "\n",
    "from subgraph_gen.subgraph_gen import *\n",
    "from sentence_processing.sentence_processing import *\n",
    "from relation_linking.relation_linking import *\n",
    "from query_construction.query_construction import *\n",
    "from evaluation.evaluate import *\n",
    "\n",
    "\n",
    "import pandas as pd\n",
    "import json\n",
    "\n"
   ]
  },
  {
   "cell_type": "code",
   "execution_count": 4,
   "id": "fe6ac11c",
   "metadata": {},
   "outputs": [],
   "source": [
    "question = \"Which genes are associated with ALS?\""
   ]
  },
  {
   "cell_type": "code",
   "execution_count": null,
   "id": "bfe63967",
   "metadata": {},
   "outputs": [],
   "source": [
    "get_entities_relations_answers(question, nlp, model, feature_extractor, text = True, semantic = True, domain_range = True, query_correctness = True)"
   ]
  },
  {
   "cell_type": "code",
   "execution_count": null,
   "id": "ac0276ee",
   "metadata": {},
   "outputs": [],
   "source": []
  }
 ],
 "metadata": {
  "kernelspec": {
   "display_name": "Python 3 (ipykernel)",
   "language": "python",
   "name": "python3"
  },
  "language_info": {
   "codemirror_mode": {
    "name": "ipython",
    "version": 3
   },
   "file_extension": ".py",
   "mimetype": "text/x-python",
   "name": "python",
   "nbconvert_exporter": "python",
   "pygments_lexer": "ipython3",
   "version": "3.10.9"
  }
 },
 "nbformat": 4,
 "nbformat_minor": 5
}
