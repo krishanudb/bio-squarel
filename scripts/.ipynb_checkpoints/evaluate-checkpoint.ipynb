{
 "cells": [
  {
   "cell_type": "code",
   "execution_count": 1,
   "id": "92ba26a9",
   "metadata": {},
   "outputs": [],
   "source": [
    "import warnings\n",
    "warnings.filterwarnings(\"ignore\")\n",
    "import numpy as np\n",
    "\n",
    "import tqdm.notebook as tq\n",
    "\n",
    "from Elastic import searchIndex as wiki_search_elastic\n",
    "from Elastic.searchIndex import *\n",
    "\n",
    "from subgraph_gen.subgraph_gen import *\n",
    "from sentence_processing.sentence_processing import *\n",
    "from relation_linking.relation_linking import *\n",
    "from query_construction.query_construction import *\n",
    "from evaluation.evaluate import *\n",
    "\n",
    "\n",
    "import pandas as pd\n",
    "import json\n",
    "\n"
   ]
  },
  {
   "cell_type": "code",
   "execution_count": 2,
   "id": "f877a006",
   "metadata": {},
   "outputs": [],
   "source": [
    "constrained_simple_questions = pd.read_csv(\"/home/krishanu/Work/phd_work/KGQA/annotated_questions/constrained_simple_questions_test.csv\", index_col= 0, encoding='latin-1')\n",
    "constrained_simple_questions[\"entities\"] = constrained_simple_questions[\"target\"] + \",\" + constrained_simple_questions[\"primary\"]\n",
    "constrained_simple_questions[\"entities\"] = constrained_simple_questions[\"entities\"].apply(lambda x: x.split(\",\"))"
   ]
  },
  {
   "cell_type": "code",
   "execution_count": 3,
   "id": "303a07ed",
   "metadata": {},
   "outputs": [],
   "source": [
    "simple_questions = pd.read_csv(\"/home/krishanu/Work/phd_work/KGQA/annotated_questions/simple_questions_test.csv\", index_col= 0, encoding='latin-1')\n",
    "simple_questions[\"entities\"] = simple_questions[\"primary\"]\n",
    "simple_questions[\"entities\"] = simple_questions[\"entities\"].apply(lambda x: x.split(\",\"))"
   ]
  },
  {
   "cell_type": "markdown",
   "id": "4ff36287",
   "metadata": {},
   "source": [
    "### Best performing model. All the features are present"
   ]
  },
  {
   "cell_type": "code",
   "execution_count": null,
   "id": "3de9aabc",
   "metadata": {},
   "outputs": [
    {
     "data": {
      "application/vnd.jupyter.widget-view+json": {
       "model_id": "7a7276cac4744a669921bb7f6facdde5",
       "version_major": 2,
       "version_minor": 0
      },
      "text/plain": [
       "  0%|          | 0/32 [00:00<?, ?it/s]"
      ]
     },
     "metadata": {},
     "output_type": "display_data"
    }
   ],
   "source": [
    "evaluate_method(simple_questions=simple_questions, simple_constrained_questions=constrained_simple_questions)"
   ]
  },
  {
   "cell_type": "markdown",
   "id": "9028d233",
   "metadata": {},
   "source": [
    "### Entity Disambiguation is disabled "
   ]
  },
  {
   "cell_type": "code",
   "execution_count": null,
   "id": "076e1a09",
   "metadata": {},
   "outputs": [],
   "source": [
    "evaluate_method(simple_questions=simple_questions, simple_constrained_questions=constrained_simple_questions, disambiguation = False)"
   ]
  },
  {
   "cell_type": "markdown",
   "id": "983e4f6c",
   "metadata": {},
   "source": [
    "### Ablation with different configurations of the relation linking methods."
   ]
  },
  {
   "cell_type": "markdown",
   "id": "92a751e2",
   "metadata": {},
   "source": [
    "#### All relation linking methods enabled"
   ]
  },
  {
   "cell_type": "code",
   "execution_count": null,
   "id": "afdf376f",
   "metadata": {},
   "outputs": [],
   "source": [
    "evaluate_method(simple_questions=simple_questions, simple_constrained_questions=constrained_simple_questions, \n",
    "                text = True, semantic = True, domain_range = True, query_correctness = True,\n",
    "                disambiguation = True)"
   ]
  },
  {
   "cell_type": "markdown",
   "id": "42a8a9e0",
   "metadata": {},
   "source": [
    "#### Query Correctness Disabled"
   ]
  },
  {
   "cell_type": "code",
   "execution_count": null,
   "id": "364f802a",
   "metadata": {},
   "outputs": [],
   "source": [
    "evaluate_method(simple_questions=simple_questions, simple_constrained_questions=constrained_simple_questions, \n",
    "                text = True, semantic = True, domain_range = True, query_correctness = False,\n",
    "                disambiguation = True)"
   ]
  },
  {
   "cell_type": "markdown",
   "id": "8b8c3a32",
   "metadata": {},
   "source": [
    "#### Query Correctness and Domain-Range Disabled"
   ]
  },
  {
   "cell_type": "code",
   "execution_count": null,
   "id": "fd6af427",
   "metadata": {},
   "outputs": [],
   "source": [
    "evaluate_method(simple_questions=simple_questions, simple_constrained_questions=constrained_simple_questions, \n",
    "                text = True, semantic = True, domain_range = False, query_correctness = False,\n",
    "                disambiguation = True)"
   ]
  },
  {
   "cell_type": "markdown",
   "id": "55734b94",
   "metadata": {},
   "source": [
    "#### Query Correctness, Domain-Range, Semantic Relation Patterns Disabled"
   ]
  },
  {
   "cell_type": "code",
   "execution_count": null,
   "id": "1a03e99a",
   "metadata": {},
   "outputs": [],
   "source": [
    "evaluate_method(simple_questions=simple_questions, simple_constrained_questions=constrained_simple_questions, \n",
    "                text = True, semantic = False, domain_range = False, query_correctness = False,\n",
    "                disambiguation = True)"
   ]
  },
  {
   "cell_type": "code",
   "execution_count": null,
   "id": "bfe63967",
   "metadata": {},
   "outputs": [],
   "source": []
  }
 ],
 "metadata": {
  "kernelspec": {
   "display_name": "Python 3 (ipykernel)",
   "language": "python",
   "name": "python3"
  },
  "language_info": {
   "codemirror_mode": {
    "name": "ipython",
    "version": 3
   },
   "file_extension": ".py",
   "mimetype": "text/x-python",
   "name": "python",
   "nbconvert_exporter": "python",
   "pygments_lexer": "ipython3",
   "version": "3.10.9"
  }
 },
 "nbformat": 4,
 "nbformat_minor": 5
}
