{
 "cells": [
  {
   "cell_type": "code",
   "execution_count": 1,
   "id": "92ba26a9",
   "metadata": {},
   "outputs": [],
   "source": [
    "import warnings\n",
    "warnings.filterwarnings(\"ignore\")\n",
    "import numpy as np\n",
    "\n",
    "import tqdm.notebook as tq\n",
    "\n",
    "from Elastic import searchIndex as wiki_search_elastic\n",
    "from Elastic.searchIndex import *\n",
    "\n",
    "from subgraph_gen.subgraph_gen import *\n",
    "from sentence_processing.sentence_processing import *\n",
    "from relation_linking.relation_linking import *\n",
    "from query_construction.query_construction import *\n",
    "from evaluation.evaluate import *\n",
    "\n",
    "\n",
    "import pandas as pd\n",
    "import json\n",
    "\n"
   ]
  },
  {
   "cell_type": "code",
   "execution_count": 2,
   "id": "f877a006",
   "metadata": {},
   "outputs": [],
   "source": [
    "constrained_simple_questions = pd.read_csv(\"../data/constrained_simple_questions_test.csv\", index_col= 0, encoding='latin-1')\n",
    "constrained_simple_questions[\"entities\"] = constrained_simple_questions[\"target\"] + \",\" + constrained_simple_questions[\"primary\"]\n",
    "constrained_simple_questions[\"entities\"] = constrained_simple_questions[\"entities\"].apply(lambda x: x.split(\",\"))"
   ]
  },
  {
   "cell_type": "code",
   "execution_count": 3,
   "id": "303a07ed",
   "metadata": {},
   "outputs": [],
   "source": [
    "simple_questions = pd.read_csv(\"../data/simple_questions_test.csv\", index_col= 0, encoding='latin-1')\n",
    "simple_questions[\"entities\"] = simple_questions[\"primary\"]\n",
    "simple_questions[\"entities\"] = simple_questions[\"entities\"].apply(lambda x: x.split(\",\"))"
   ]
  },
  {
   "cell_type": "markdown",
   "id": "4ff36287",
   "metadata": {},
   "source": [
    "### Best performing model. All the features are present"
   ]
  },
  {
   "cell_type": "code",
   "execution_count": 4,
   "id": "3de9aabc",
   "metadata": {},
   "outputs": [
    {
     "data": {
      "application/vnd.jupyter.widget-view+json": {
       "model_id": "7a7276cac4744a669921bb7f6facdde5",
       "version_major": 2,
       "version_minor": 0
      },
      "text/plain": [
       "  0%|          | 0/32 [00:00<?, ?it/s]"
      ]
     },
     "metadata": {},
     "output_type": "display_data"
    },
    {
     "data": {
      "application/vnd.jupyter.widget-view+json": {
       "model_id": "46034f770327402da6d0f98e3e85893a",
       "version_major": 2,
       "version_minor": 0
      },
      "text/plain": [
       "  0%|          | 0/35 [00:00<?, ?it/s]"
      ]
     },
     "metadata": {},
     "output_type": "display_data"
    },
    {
     "data": {
      "text/plain": [
       "{'total_precision_ent': 0.5522388036310983,\n",
       " 'total_recall_ent': 0.725490182814303,\n",
       " 'total_f1_ent': 0.6271186376041371,\n",
       " 'total_precision_rel': 0.47761194230340803,\n",
       " 'total_recall_rel': 0.47761194230340803,\n",
       " 'total_f1_rel': 0.47761194230340803,\n",
       " 'total_precision_ans': 0.5688073375557614,\n",
       " 'total_recall_ans': 0.3850931698429844,\n",
       " 'total_f1_ans': 0.459259260164609}"
      ]
     },
     "execution_count": 4,
     "metadata": {},
     "output_type": "execute_result"
    }
   ],
   "source": [
    "evaluate_method(simple_questions=simple_questions, simple_constrained_questions=constrained_simple_questions)"
   ]
  },
  {
   "cell_type": "markdown",
   "id": "9028d233",
   "metadata": {},
   "source": [
    "### Entity Disambiguation is disabled "
   ]
  },
  {
   "cell_type": "code",
   "execution_count": 5,
   "id": "076e1a09",
   "metadata": {},
   "outputs": [
    {
     "data": {
      "application/vnd.jupyter.widget-view+json": {
       "model_id": "1a46ac004b18457688c406daa9f6caed",
       "version_major": 2,
       "version_minor": 0
      },
      "text/plain": [
       "  0%|          | 0/32 [00:00<?, ?it/s]"
      ]
     },
     "metadata": {},
     "output_type": "display_data"
    },
    {
     "data": {
      "application/vnd.jupyter.widget-view+json": {
       "model_id": "ba3f0c72a48d4dedb1a3d3d2f8302027",
       "version_major": 2,
       "version_minor": 0
      },
      "text/plain": [
       "  0%|          | 0/35 [00:00<?, ?it/s]"
      ]
     },
     "metadata": {},
     "output_type": "display_data"
    },
    {
     "data": {
      "text/plain": [
       "{'total_precision_ent': 0.5,\n",
       " 'total_recall_ent': 0.6568627358708194,\n",
       " 'total_f1_ent': 0.5677966067222064,\n",
       " 'total_precision_rel': 0.41791045511249647,\n",
       " 'total_recall_rel': 0.41791045511249647,\n",
       " 'total_f1_rel': 0.41791045511249647,\n",
       " 'total_precision_ans': 0.5187969916332185,\n",
       " 'total_recall_ans': 0.21428571960958284,\n",
       " 'total_f1_ans': 0.30329670848448237}"
      ]
     },
     "execution_count": 5,
     "metadata": {},
     "output_type": "execute_result"
    }
   ],
   "source": [
    "evaluate_method(simple_questions=simple_questions, simple_constrained_questions=constrained_simple_questions, disambiguation = False)"
   ]
  },
  {
   "cell_type": "markdown",
   "id": "983e4f6c",
   "metadata": {},
   "source": [
    "### Ablation with different configurations of the relation linking methods."
   ]
  },
  {
   "cell_type": "markdown",
   "id": "92a751e2",
   "metadata": {},
   "source": [
    "#### All relation linking methods enabled"
   ]
  },
  {
   "cell_type": "code",
   "execution_count": 6,
   "id": "afdf376f",
   "metadata": {},
   "outputs": [
    {
     "data": {
      "application/vnd.jupyter.widget-view+json": {
       "model_id": "af538d8599b54789b5abd5082a4d7b8a",
       "version_major": 2,
       "version_minor": 0
      },
      "text/plain": [
       "  0%|          | 0/32 [00:00<?, ?it/s]"
      ]
     },
     "metadata": {},
     "output_type": "display_data"
    },
    {
     "data": {
      "application/vnd.jupyter.widget-view+json": {
       "model_id": "4790a15f4e6d4ceeb1ae0aa24d98ec54",
       "version_major": 2,
       "version_minor": 0
      },
      "text/plain": [
       "  0%|          | 0/35 [00:00<?, ?it/s]"
      ]
     },
     "metadata": {},
     "output_type": "display_data"
    },
    {
     "data": {
      "text/plain": [
       "{'total_precision_ent': 0.5522388036310983,\n",
       " 'total_recall_ent': 0.725490182814303,\n",
       " 'total_f1_ent': 0.6271186376041371,\n",
       " 'total_precision_rel': 0.47761194230340803,\n",
       " 'total_recall_rel': 0.47761194230340803,\n",
       " 'total_f1_rel': 0.47761194230340803,\n",
       " 'total_precision_ans': 0.5688073375557614,\n",
       " 'total_recall_ans': 0.3850931698429844,\n",
       " 'total_f1_ans': 0.459259260164609}"
      ]
     },
     "execution_count": 6,
     "metadata": {},
     "output_type": "execute_result"
    }
   ],
   "source": [
    "evaluate_method(simple_questions=simple_questions, simple_constrained_questions=constrained_simple_questions, \n",
    "                text = True, semantic = True, domain_range = True, query_correctness = True,\n",
    "                disambiguation = True)"
   ]
  },
  {
   "cell_type": "markdown",
   "id": "42a8a9e0",
   "metadata": {},
   "source": [
    "#### Query Correctness Disabled"
   ]
  },
  {
   "cell_type": "code",
   "execution_count": 7,
   "id": "364f802a",
   "metadata": {},
   "outputs": [
    {
     "data": {
      "application/vnd.jupyter.widget-view+json": {
       "model_id": "d8ed5e7b45a84cbc85f6e605e98680b8",
       "version_major": 2,
       "version_minor": 0
      },
      "text/plain": [
       "  0%|          | 0/32 [00:00<?, ?it/s]"
      ]
     },
     "metadata": {},
     "output_type": "display_data"
    },
    {
     "data": {
      "application/vnd.jupyter.widget-view+json": {
       "model_id": "ac7a2d63ff8b48219d77893dc4f06d5b",
       "version_major": 2,
       "version_minor": 0
      },
      "text/plain": [
       "  0%|          | 0/35 [00:00<?, ?it/s]"
      ]
     },
     "metadata": {},
     "output_type": "display_data"
    },
    {
     "data": {
      "text/plain": [
       "{'total_precision_ent': 0.5522388036310983,\n",
       " 'total_recall_ent': 0.725490182814303,\n",
       " 'total_f1_ent': 0.6271186376041371,\n",
       " 'total_precision_rel': 0.41791045511249647,\n",
       " 'total_recall_rel': 0.41791045511249647,\n",
       " 'total_f1_rel': 0.41791045511249647,\n",
       " 'total_precision_ans': 0.6331360899478311,\n",
       " 'total_recall_ans': 0.3322981397708421,\n",
       " 'total_f1_ans': 0.4358452154172248}"
      ]
     },
     "execution_count": 7,
     "metadata": {},
     "output_type": "execute_result"
    }
   ],
   "source": [
    "evaluate_method(simple_questions=simple_questions, simple_constrained_questions=constrained_simple_questions, \n",
    "                text = True, semantic = True, domain_range = True, query_correctness = False,\n",
    "                disambiguation = True)"
   ]
  },
  {
   "cell_type": "markdown",
   "id": "8b8c3a32",
   "metadata": {},
   "source": [
    "#### Query Correctness and Domain-Range Disabled"
   ]
  },
  {
   "cell_type": "code",
   "execution_count": 8,
   "id": "fd6af427",
   "metadata": {},
   "outputs": [
    {
     "data": {
      "application/vnd.jupyter.widget-view+json": {
       "model_id": "9dd59916ad7142188ade009b393e2eea",
       "version_major": 2,
       "version_minor": 0
      },
      "text/plain": [
       "  0%|          | 0/32 [00:00<?, ?it/s]"
      ]
     },
     "metadata": {},
     "output_type": "display_data"
    },
    {
     "data": {
      "application/vnd.jupyter.widget-view+json": {
       "model_id": "b995bf88258d460a850716b404c6b8be",
       "version_major": 2,
       "version_minor": 0
      },
      "text/plain": [
       "  0%|          | 0/35 [00:00<?, ?it/s]"
      ]
     },
     "metadata": {},
     "output_type": "display_data"
    },
    {
     "data": {
      "text/plain": [
       "{'total_precision_ent': 0.5522388036310983,\n",
       " 'total_recall_ent': 0.725490182814303,\n",
       " 'total_f1_ent': 0.6271186376041371,\n",
       " 'total_precision_rel': 0.37313433971931276,\n",
       " 'total_recall_rel': 0.37313433971931276,\n",
       " 'total_f1_rel': 0.37313433971931276,\n",
       " 'total_precision_ans': 0.7054794436104338,\n",
       " 'total_recall_ans': 0.31987577975386744,\n",
       " 'total_f1_ans': 0.4401709417050185}"
      ]
     },
     "execution_count": 8,
     "metadata": {},
     "output_type": "execute_result"
    }
   ],
   "source": [
    "evaluate_method(simple_questions=simple_questions, simple_constrained_questions=constrained_simple_questions, \n",
    "                text = True, semantic = True, domain_range = False, query_correctness = False,\n",
    "                disambiguation = True)"
   ]
  },
  {
   "cell_type": "markdown",
   "id": "55734b94",
   "metadata": {},
   "source": [
    "#### Query Correctness, Domain-Range, Semantic Relation Patterns Disabled"
   ]
  },
  {
   "cell_type": "code",
   "execution_count": 9,
   "id": "1a03e99a",
   "metadata": {},
   "outputs": [
    {
     "data": {
      "application/vnd.jupyter.widget-view+json": {
       "model_id": "a82bf8f83bcb4291894bd059aab2ccf0",
       "version_major": 2,
       "version_minor": 0
      },
      "text/plain": [
       "  0%|          | 0/32 [00:00<?, ?it/s]"
      ]
     },
     "metadata": {},
     "output_type": "display_data"
    },
    {
     "data": {
      "application/vnd.jupyter.widget-view+json": {
       "model_id": "847e6f6a0b2b4fe782661b87cd6b846f",
       "version_major": 2,
       "version_minor": 0
      },
      "text/plain": [
       "  0%|          | 0/35 [00:00<?, ?it/s]"
      ]
     },
     "metadata": {},
     "output_type": "display_data"
    },
    {
     "data": {
      "text/plain": [
       "{'total_precision_ent': 0.5522388036310983,\n",
       " 'total_recall_ent': 0.725490182814303,\n",
       " 'total_f1_ent': 0.6271186376041371,\n",
       " 'total_precision_rel': 0.2835821089329454,\n",
       " 'total_recall_rel': 0.2835821089329454,\n",
       " 'total_f1_rel': 0.2835821089329454,\n",
       " 'total_precision_ans': 0.40566038269846894,\n",
       " 'total_recall_ans': 0.1335403794992476,\n",
       " 'total_f1_ans': 0.20093458782426393}"
      ]
     },
     "execution_count": 9,
     "metadata": {},
     "output_type": "execute_result"
    }
   ],
   "source": [
    "evaluate_method(simple_questions=simple_questions, simple_constrained_questions=constrained_simple_questions, \n",
    "                text = True, semantic = False, domain_range = False, query_correctness = False,\n",
    "                disambiguation = True)"
   ]
  },
  {
   "cell_type": "code",
   "execution_count": null,
   "id": "bfe63967",
   "metadata": {},
   "outputs": [],
   "source": []
  }
 ],
 "metadata": {
  "kernelspec": {
   "display_name": "Python 3 (ipykernel)",
   "language": "python",
   "name": "python3"
  },
  "language_info": {
   "codemirror_mode": {
    "name": "ipython",
    "version": 3
   },
   "file_extension": ".py",
   "mimetype": "text/x-python",
   "name": "python",
   "nbconvert_exporter": "python",
   "pygments_lexer": "ipython3",
   "version": "3.10.9"
  }
 },
 "nbformat": 4,
 "nbformat_minor": 5
}
