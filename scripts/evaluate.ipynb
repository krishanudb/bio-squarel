{
 "cells": [
  {
   "cell_type": "code",
   "execution_count": 1,
   "id": "92ba26a9",
   "metadata": {},
   "outputs": [],
   "source": [
    "import warnings\n",
    "warnings.filterwarnings(\"ignore\")\n",
    "import numpy as np\n",
    "\n",
    "import tqdm.notebook as tq\n",
    "\n",
    "from Elastic import searchIndex as wiki_search_elastic\n",
    "from Elastic.searchIndex import *\n",
    "\n",
    "from subgraph_gen.subgraph_gen import *\n",
    "from sentence_processing.sentence_processing import *\n",
    "from relation_linking.relation_linking import *\n",
    "from query_construction.query_construction import *\n",
    "from evaluation.evaluate import *\n",
    "\n",
    "\n",
    "import pandas as pd\n",
    "import json\n",
    "\n"
   ]
  },
  {
   "cell_type": "code",
   "execution_count": 2,
   "id": "f877a006",
   "metadata": {},
   "outputs": [],
   "source": [
    "constrained_simple_questions = pd.read_csv(\"/home/krishanu/Work/phd_work/KGQA/annotated_questions/constrained_simple_questions_test.csv\", index_col= 0, encoding='latin-1')\n",
    "constrained_simple_questions[\"entities\"] = constrained_simple_questions[\"target\"] + \",\" + constrained_simple_questions[\"primary\"]\n",
    "constrained_simple_questions[\"entities\"] = constrained_simple_questions[\"entities\"].apply(lambda x: x.split(\",\"))"
   ]
  },
  {
   "cell_type": "code",
   "execution_count": 3,
   "id": "303a07ed",
   "metadata": {},
   "outputs": [],
   "source": [
    "simple_questions = pd.read_csv(\"/home/krishanu/Work/phd_work/KGQA/annotated_questions/simple_questions_test.csv\", index_col= 0, encoding='latin-1')\n",
    "simple_questions[\"entities\"] = simple_questions[\"primary\"]\n",
    "simple_questions[\"entities\"] = simple_questions[\"entities\"].apply(lambda x: x.split(\",\"))"
   ]
  },
  {
   "cell_type": "markdown",
   "id": "4ff36287",
   "metadata": {},
   "source": [
    "### Best performing model. All the features are present"
   ]
  },
  {
   "cell_type": "code",
   "execution_count": 4,
   "id": "3de9aabc",
   "metadata": {},
   "outputs": [
    {
     "data": {
      "application/vnd.jupyter.widget-view+json": {
       "model_id": "e4656df4df0543c4b2d383852dcb8c45",
       "version_major": 2,
       "version_minor": 0
      },
      "text/plain": [
       "  0%|          | 0/32 [00:00<?, ?it/s]"
      ]
     },
     "metadata": {},
     "output_type": "display_data"
    },
    {
     "data": {
      "application/vnd.jupyter.widget-view+json": {
       "model_id": "1d0512906db2470b8f762bebe1287c4b",
       "version_major": 2,
       "version_minor": 0
      },
      "text/plain": [
       "  0%|          | 0/35 [00:00<?, ?it/s]"
      ]
     },
     "metadata": {},
     "output_type": "display_data"
    },
    {
     "data": {
      "text/plain": [
       "{'total_precision_ent': 0.5522388036310983,\n",
       " 'total_recall_ent': 0.725490182814303,\n",
       " 'total_f1_ent': 0.6271186376041371,\n",
       " 'total_precision_rel': 0.47761194230340803,\n",
       " 'total_recall_rel': 0.47761194230340803,\n",
       " 'total_f1_rel': 0.47761194230340803,\n",
       " 'total_precision_ans': 0.5688073375557614,\n",
       " 'total_recall_ans': 0.3850931698429844,\n",
       " 'total_f1_ans': 0.459259260164609}"
      ]
     },
     "execution_count": 4,
     "metadata": {},
     "output_type": "execute_result"
    }
   ],
   "source": [
    "evaluate_method(simple_questions=simple_questions, simple_constrained_questions=constrained_simple_questions)"
   ]
  },
  {
   "cell_type": "markdown",
   "id": "9028d233",
   "metadata": {},
   "source": [
    "### Entity Disambiguation is disabled "
   ]
  },
  {
   "cell_type": "code",
   "execution_count": 5,
   "id": "076e1a09",
   "metadata": {},
   "outputs": [
    {
     "data": {
      "application/vnd.jupyter.widget-view+json": {
       "model_id": "bee53234a96d42d6bc3d3b002697f132",
       "version_major": 2,
       "version_minor": 0
      },
      "text/plain": [
       "  0%|          | 0/32 [00:00<?, ?it/s]"
      ]
     },
     "metadata": {},
     "output_type": "display_data"
    },
    {
     "data": {
      "application/vnd.jupyter.widget-view+json": {
       "model_id": "bdc4ed38c644401baa4cde27c4d383f7",
       "version_major": 2,
       "version_minor": 0
      },
      "text/plain": [
       "  0%|          | 0/35 [00:00<?, ?it/s]"
      ]
     },
     "metadata": {},
     "output_type": "display_data"
    },
    {
     "data": {
      "text/plain": [
       "{'total_precision_ent': 0.507462686233014,\n",
       " 'total_recall_ent': 0.6666666568627457,\n",
       " 'total_f1_ent': 0.5762711825624822,\n",
       " 'total_precision_rel': 0.4477611987079523,\n",
       " 'total_recall_rel': 0.4477611987079523,\n",
       " 'total_f1_rel': 0.4477611987079523,\n",
       " 'total_precision_ans': 0.49612403118802956,\n",
       " 'total_recall_ans': 0.19875776958836452,\n",
       " 'total_f1_ans': 0.2838137529805653}"
      ]
     },
     "execution_count": 5,
     "metadata": {},
     "output_type": "execute_result"
    }
   ],
   "source": [
    "evaluate_method(simple_questions=simple_questions, simple_constrained_questions=constrained_simple_questions, disambiguation = False)"
   ]
  },
  {
   "cell_type": "markdown",
   "id": "983e4f6c",
   "metadata": {},
   "source": [
    "### Ablation with different configurations of the relation linking methods."
   ]
  },
  {
   "cell_type": "markdown",
   "id": "92a751e2",
   "metadata": {},
   "source": [
    "#### All relation linking methods enabled"
   ]
  },
  {
   "cell_type": "code",
   "execution_count": 6,
   "id": "afdf376f",
   "metadata": {},
   "outputs": [
    {
     "data": {
      "application/vnd.jupyter.widget-view+json": {
       "model_id": "a48f07b1dea64a6d9172788f71c3b305",
       "version_major": 2,
       "version_minor": 0
      },
      "text/plain": [
       "  0%|          | 0/32 [00:00<?, ?it/s]"
      ]
     },
     "metadata": {},
     "output_type": "display_data"
    },
    {
     "data": {
      "application/vnd.jupyter.widget-view+json": {
       "model_id": "0dd34c69c09f4b1db3d073671fb336b9",
       "version_major": 2,
       "version_minor": 0
      },
      "text/plain": [
       "  0%|          | 0/35 [00:00<?, ?it/s]"
      ]
     },
     "metadata": {},
     "output_type": "display_data"
    },
    {
     "data": {
      "text/plain": [
       "{'total_precision_ent': 0.5522388036310983,\n",
       " 'total_recall_ent': 0.725490182814303,\n",
       " 'total_f1_ent': 0.6271186376041371,\n",
       " 'total_precision_rel': 0.47761194230340803,\n",
       " 'total_recall_rel': 0.47761194230340803,\n",
       " 'total_f1_rel': 0.47761194230340803,\n",
       " 'total_precision_ans': 0.5688073375557614,\n",
       " 'total_recall_ans': 0.3850931698429844,\n",
       " 'total_f1_ans': 0.459259260164609}"
      ]
     },
     "execution_count": 6,
     "metadata": {},
     "output_type": "execute_result"
    }
   ],
   "source": [
    "evaluate_method(simple_questions=simple_questions, simple_constrained_questions=constrained_simple_questions, \n",
    "                text = True, semantic = True, domain_range = True, query_correctness = True,\n",
    "                disambiguation = True)"
   ]
  },
  {
   "cell_type": "markdown",
   "id": "42a8a9e0",
   "metadata": {},
   "source": [
    "#### Query Correctness Disabled"
   ]
  },
  {
   "cell_type": "code",
   "execution_count": 7,
   "id": "364f802a",
   "metadata": {},
   "outputs": [
    {
     "data": {
      "application/vnd.jupyter.widget-view+json": {
       "model_id": "a8fd028f6ad24e3caefe4ea65002270a",
       "version_major": 2,
       "version_minor": 0
      },
      "text/plain": [
       "  0%|          | 0/32 [00:00<?, ?it/s]"
      ]
     },
     "metadata": {},
     "output_type": "display_data"
    },
    {
     "data": {
      "application/vnd.jupyter.widget-view+json": {
       "model_id": "5ee4c77b1ef34e4ea4567f0b1cfee10f",
       "version_major": 2,
       "version_minor": 0
      },
      "text/plain": [
       "  0%|          | 0/35 [00:00<?, ?it/s]"
      ]
     },
     "metadata": {},
     "output_type": "display_data"
    },
    {
     "data": {
      "text/plain": [
       "{'total_precision_ent': 0.5522388036310983,\n",
       " 'total_recall_ent': 0.725490182814303,\n",
       " 'total_f1_ent': 0.6271186376041371,\n",
       " 'total_precision_rel': 0.41791045511249647,\n",
       " 'total_recall_rel': 0.41791045511249647,\n",
       " 'total_f1_rel': 0.41791045511249647,\n",
       " 'total_precision_ans': 0.6331360899478311,\n",
       " 'total_recall_ans': 0.3322981397708421,\n",
       " 'total_f1_ans': 0.4358452154172248}"
      ]
     },
     "execution_count": 7,
     "metadata": {},
     "output_type": "execute_result"
    }
   ],
   "source": [
    "evaluate_method(simple_questions=simple_questions, simple_constrained_questions=constrained_simple_questions, \n",
    "                text = True, semantic = True, domain_range = True, query_correctness = False,\n",
    "                disambiguation = True)"
   ]
  },
  {
   "cell_type": "markdown",
   "id": "8b8c3a32",
   "metadata": {},
   "source": [
    "#### Query Correctness and Domain-Range Disabled"
   ]
  },
  {
   "cell_type": "code",
   "execution_count": 8,
   "id": "fd6af427",
   "metadata": {},
   "outputs": [
    {
     "data": {
      "application/vnd.jupyter.widget-view+json": {
       "model_id": "eac736f8447d4611bc1eafef789f79b4",
       "version_major": 2,
       "version_minor": 0
      },
      "text/plain": [
       "  0%|          | 0/32 [00:00<?, ?it/s]"
      ]
     },
     "metadata": {},
     "output_type": "display_data"
    },
    {
     "data": {
      "application/vnd.jupyter.widget-view+json": {
       "model_id": "eec0edd6fd4f4d6680004dc6d54f49f6",
       "version_major": 2,
       "version_minor": 0
      },
      "text/plain": [
       "  0%|          | 0/35 [00:00<?, ?it/s]"
      ]
     },
     "metadata": {},
     "output_type": "display_data"
    },
    {
     "data": {
      "text/plain": [
       "{'total_precision_ent': 0.5522388036310983,\n",
       " 'total_recall_ent': 0.725490182814303,\n",
       " 'total_f1_ent': 0.6271186376041371,\n",
       " 'total_precision_rel': 0.37313433971931276,\n",
       " 'total_recall_rel': 0.37313433971931276,\n",
       " 'total_f1_rel': 0.37313433971931276,\n",
       " 'total_precision_ans': 0.7054794436104338,\n",
       " 'total_recall_ans': 0.31987577975386744,\n",
       " 'total_f1_ans': 0.4401709417050185}"
      ]
     },
     "execution_count": 8,
     "metadata": {},
     "output_type": "execute_result"
    }
   ],
   "source": [
    "evaluate_method(simple_questions=simple_questions, simple_constrained_questions=constrained_simple_questions, \n",
    "                text = True, semantic = True, domain_range = False, query_correctness = False,\n",
    "                disambiguation = True)"
   ]
  },
  {
   "cell_type": "markdown",
   "id": "55734b94",
   "metadata": {},
   "source": [
    "#### Query Correctness, Domain-Range, Semantic Relation Patterns Disabled"
   ]
  },
  {
   "cell_type": "code",
   "execution_count": 9,
   "id": "1a03e99a",
   "metadata": {},
   "outputs": [
    {
     "data": {
      "application/vnd.jupyter.widget-view+json": {
       "model_id": "55d0480351e74f39bc9e584493526c99",
       "version_major": 2,
       "version_minor": 0
      },
      "text/plain": [
       "  0%|          | 0/32 [00:00<?, ?it/s]"
      ]
     },
     "metadata": {},
     "output_type": "display_data"
    },
    {
     "data": {
      "application/vnd.jupyter.widget-view+json": {
       "model_id": "b19d3e5d23184326811a2efa4b04f626",
       "version_major": 2,
       "version_minor": 0
      },
      "text/plain": [
       "  0%|          | 0/35 [00:00<?, ?it/s]"
      ]
     },
     "metadata": {},
     "output_type": "display_data"
    },
    {
     "data": {
      "text/plain": [
       "{'total_precision_ent': 0.5522388036310983,\n",
       " 'total_recall_ent': 0.725490182814303,\n",
       " 'total_f1_ent': 0.6271186376041371,\n",
       " 'total_precision_rel': 0.2835821089329454,\n",
       " 'total_recall_rel': 0.2835821089329454,\n",
       " 'total_f1_rel': 0.2835821089329454,\n",
       " 'total_precision_ans': 0.40566038269846894,\n",
       " 'total_recall_ans': 0.1335403794992476,\n",
       " 'total_f1_ans': 0.20093458782426393}"
      ]
     },
     "execution_count": 9,
     "metadata": {},
     "output_type": "execute_result"
    }
   ],
   "source": [
    "evaluate_method(simple_questions=simple_questions, simple_constrained_questions=constrained_simple_questions, \n",
    "                text = True, semantic = False, domain_range = False, query_correctness = False,\n",
    "                disambiguation = True)"
   ]
  },
  {
   "cell_type": "code",
   "execution_count": null,
   "id": "bfe63967",
   "metadata": {},
   "outputs": [],
   "source": []
  }
 ],
 "metadata": {
  "kernelspec": {
   "display_name": "Python 3 (ipykernel)",
   "language": "python",
   "name": "python3"
  },
  "language_info": {
   "codemirror_mode": {
    "name": "ipython",
    "version": 3
   },
   "file_extension": ".py",
   "mimetype": "text/x-python",
   "name": "python",
   "nbconvert_exporter": "python",
   "pygments_lexer": "ipython3",
   "version": "3.10.9"
  }
 },
 "nbformat": 4,
 "nbformat_minor": 5
}
