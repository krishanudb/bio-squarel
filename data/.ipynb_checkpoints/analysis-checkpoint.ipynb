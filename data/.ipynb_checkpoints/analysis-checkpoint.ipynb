{
 "cells": [
  {
   "cell_type": "code",
   "execution_count": 1,
   "id": "bd357461",
   "metadata": {},
   "outputs": [],
   "source": [
    "import pandas as pd"
   ]
  },
  {
   "cell_type": "code",
   "execution_count": 2,
   "id": "440d48a4",
   "metadata": {},
   "outputs": [],
   "source": [
    "s_tr = pd.read_csv(\"simple_questions_train.csv\", index_col = 0)\n",
    "s_ts = pd.read_csv(\"simple_questions_test.csv\", index_col = 0)"
   ]
  },
  {
   "cell_type": "code",
   "execution_count": 3,
   "id": "4b2899f9",
   "metadata": {},
   "outputs": [
    {
     "data": {
      "text/plain": [
       "(133, 6)"
      ]
     },
     "execution_count": 3,
     "metadata": {},
     "output_type": "execute_result"
    }
   ],
   "source": [
    "s_tr.shape"
   ]
  },
  {
   "cell_type": "code",
   "execution_count": 4,
   "id": "af98e147",
   "metadata": {},
   "outputs": [
    {
     "data": {
      "text/plain": [
       "(32, 6)"
      ]
     },
     "execution_count": 4,
     "metadata": {},
     "output_type": "execute_result"
    }
   ],
   "source": [
    "s_ts.shape"
   ]
  },
  {
   "cell_type": "code",
   "execution_count": 6,
   "id": "6f6c5134",
   "metadata": {},
   "outputs": [],
   "source": [
    "cs_tr = pd.read_csv(\"constrained_simple_questions_train.csv\", index_col = 0)\n",
    "cs_ts = pd.read_csv(\"constrained_simple_questions_test.csv\", index_col = 0)"
   ]
  },
  {
   "cell_type": "code",
   "execution_count": 7,
   "id": "93b2ead9",
   "metadata": {},
   "outputs": [
    {
     "data": {
      "text/plain": [
       "(136, 8)"
      ]
     },
     "execution_count": 7,
     "metadata": {},
     "output_type": "execute_result"
    }
   ],
   "source": [
    "cs_tr.shape"
   ]
  },
  {
   "cell_type": "code",
   "execution_count": 8,
   "id": "eff25ed4",
   "metadata": {},
   "outputs": [
    {
     "data": {
      "text/plain": [
       "(35, 8)"
      ]
     },
     "execution_count": 8,
     "metadata": {},
     "output_type": "execute_result"
    }
   ],
   "source": [
    "cs_ts.shape"
   ]
  },
  {
   "cell_type": "code",
   "execution_count": 9,
   "id": "9829638e",
   "metadata": {},
   "outputs": [
    {
     "data": {
      "text/html": [
       "<div>\n",
       "<style scoped>\n",
       "    .dataframe tbody tr th:only-of-type {\n",
       "        vertical-align: middle;\n",
       "    }\n",
       "\n",
       "    .dataframe tbody tr th {\n",
       "        vertical-align: top;\n",
       "    }\n",
       "\n",
       "    .dataframe thead th {\n",
       "        text-align: right;\n",
       "    }\n",
       "</style>\n",
       "<table border=\"1\" class=\"dataframe\">\n",
       "  <thead>\n",
       "    <tr style=\"text-align: right;\">\n",
       "      <th></th>\n",
       "      <th>0</th>\n",
       "      <th>1</th>\n",
       "      <th>query</th>\n",
       "      <th>relations</th>\n",
       "      <th>primary</th>\n",
       "      <th>primary_rel</th>\n",
       "    </tr>\n",
       "  </thead>\n",
       "  <tbody>\n",
       "    <tr>\n",
       "      <th>0</th>\n",
       "      <td>What is generic name of drug Adempas?</td>\n",
       "      <td>select ?item ?itemLabel\\nWhere {\\n  wd:Q290043...</td>\n",
       "      <td>['wd:Q29004385 wdt:P3781 ?item']</td>\n",
       "      <td>['wdt:P3781']</td>\n",
       "      <td>wd:Q29004385</td>\n",
       "      <td>wdt:P3781</td>\n",
       "    </tr>\n",
       "    <tr>\n",
       "      <th>1</th>\n",
       "      <td>What is the activity of Indoleamine 2,3-dioxyg...</td>\n",
       "      <td>select ?item where {\\n  wd:Q908221 wdt:P681 ?i...</td>\n",
       "      <td>['wd:Q908221 wdt:P681 ?item']</td>\n",
       "      <td>['wdt:P681']</td>\n",
       "      <td>wd:Q908221</td>\n",
       "      <td>wdt:P681</td>\n",
       "    </tr>\n",
       "    <tr>\n",
       "      <th>2</th>\n",
       "      <td>Which is the target of the drug Denosumab?</td>\n",
       "      <td>select ?item ?itemLabel\\nWhere {\\n  wd:Q408283...</td>\n",
       "      <td>['wd:Q408283 wdt:P129 ?item']</td>\n",
       "      <td>['wdt:P129']</td>\n",
       "      <td>wd:Q408283</td>\n",
       "      <td>wdt:P129</td>\n",
       "    </tr>\n",
       "    <tr>\n",
       "      <th>3</th>\n",
       "      <td>Of what origin is the MCF-7 cell line?</td>\n",
       "      <td>select ?item ?itemLabel\\nWhere {\\n  wd:Q188125...</td>\n",
       "      <td>['wd:Q1881253 wdt:P5166 ?item']</td>\n",
       "      <td>['wdt:P5166']</td>\n",
       "      <td>wd:Q1881253</td>\n",
       "      <td>wdt:P5166</td>\n",
       "    </tr>\n",
       "    <tr>\n",
       "      <th>4</th>\n",
       "      <td>What is the target of the drug Olaparib?</td>\n",
       "      <td>select ?item ?itemLabel \\nWhere {   \\nwd:Q7083...</td>\n",
       "      <td>['wd:Q7083106 wdt:P129 ?item']</td>\n",
       "      <td>['wdt:P129']</td>\n",
       "      <td>wd:Q7083106</td>\n",
       "      <td>wdt:P129</td>\n",
       "    </tr>\n",
       "    <tr>\n",
       "      <th>...</th>\n",
       "      <td>...</td>\n",
       "      <td>...</td>\n",
       "      <td>...</td>\n",
       "      <td>...</td>\n",
       "      <td>...</td>\n",
       "      <td>...</td>\n",
       "    </tr>\n",
       "    <tr>\n",
       "      <th>128</th>\n",
       "      <td>What is the main symptom of Marfan syndrome pa...</td>\n",
       "      <td>select ?item ?itemLabel\\nWhere {\\n  wd:Q208562...</td>\n",
       "      <td>['wd:Q208562 wdt:P780 ?item']</td>\n",
       "      <td>['wdt:P780']</td>\n",
       "      <td>wd:Q208562</td>\n",
       "      <td>wdt:P780</td>\n",
       "    </tr>\n",
       "    <tr>\n",
       "      <th>129</th>\n",
       "      <td>What is another name for the plant Sideritis s...</td>\n",
       "      <td>select ?item ?itemLabel\\nWhere {\\n  wd:Q153671...</td>\n",
       "      <td>['wd:Q15367189 wdt:P1843 ?item']</td>\n",
       "      <td>['wdt:P1843']</td>\n",
       "      <td>wd:Q15367189</td>\n",
       "      <td>wdt:P1843</td>\n",
       "    </tr>\n",
       "    <tr>\n",
       "      <th>130</th>\n",
       "      <td>List NK3R targeting drugs.</td>\n",
       "      <td>select distinct ?item where {\\n  ?item wdt:P12...</td>\n",
       "      <td>['?item wdt:P129 wd:Q21123087']</td>\n",
       "      <td>['wdt:P129']</td>\n",
       "      <td>wd:Q21123087</td>\n",
       "      <td>wdt:P129</td>\n",
       "    </tr>\n",
       "    <tr>\n",
       "      <th>131</th>\n",
       "      <td>What disease is the ALK tyrosine kinase associ...</td>\n",
       "      <td>select distinct ?item\\nWhere {\\n  wd:Q17824987...</td>\n",
       "      <td>['wd:Q17824987 wdt:P2293 ?item']</td>\n",
       "      <td>['wdt:P2293']</td>\n",
       "      <td>wd:Q17824987</td>\n",
       "      <td>wdt:P2293</td>\n",
       "    </tr>\n",
       "    <tr>\n",
       "      <th>132</th>\n",
       "      <td>Viliuisk encephalomyelitis is diagnosed in whi...</td>\n",
       "      <td>select ?item\\nWhere {\\n  wd:Q7930230 wdt:P276 ...</td>\n",
       "      <td>['wd:Q7930230 wdt:P276 ?item']</td>\n",
       "      <td>['wdt:P276']</td>\n",
       "      <td>wd:Q7930230</td>\n",
       "      <td>wdt:P276</td>\n",
       "    </tr>\n",
       "  </tbody>\n",
       "</table>\n",
       "<p>133 rows × 6 columns</p>\n",
       "</div>"
      ],
      "text/plain": [
       "                                                     0  \\\n",
       "0                What is generic name of drug Adempas?   \n",
       "1    What is the activity of Indoleamine 2,3-dioxyg...   \n",
       "2           Which is the target of the drug Denosumab?   \n",
       "3               Of what origin is the MCF-7 cell line?   \n",
       "4             What is the target of the drug Olaparib?   \n",
       "..                                                 ...   \n",
       "128  What is the main symptom of Marfan syndrome pa...   \n",
       "129  What is another name for the plant Sideritis s...   \n",
       "130                         List NK3R targeting drugs.   \n",
       "131  What disease is the ALK tyrosine kinase associ...   \n",
       "132  Viliuisk encephalomyelitis is diagnosed in whi...   \n",
       "\n",
       "                                                     1  \\\n",
       "0    select ?item ?itemLabel\\nWhere {\\n  wd:Q290043...   \n",
       "1    select ?item where {\\n  wd:Q908221 wdt:P681 ?i...   \n",
       "2    select ?item ?itemLabel\\nWhere {\\n  wd:Q408283...   \n",
       "3    select ?item ?itemLabel\\nWhere {\\n  wd:Q188125...   \n",
       "4    select ?item ?itemLabel \\nWhere {   \\nwd:Q7083...   \n",
       "..                                                 ...   \n",
       "128  select ?item ?itemLabel\\nWhere {\\n  wd:Q208562...   \n",
       "129  select ?item ?itemLabel\\nWhere {\\n  wd:Q153671...   \n",
       "130  select distinct ?item where {\\n  ?item wdt:P12...   \n",
       "131  select distinct ?item\\nWhere {\\n  wd:Q17824987...   \n",
       "132  select ?item\\nWhere {\\n  wd:Q7930230 wdt:P276 ...   \n",
       "\n",
       "                                query      relations       primary primary_rel  \n",
       "0    ['wd:Q29004385 wdt:P3781 ?item']  ['wdt:P3781']  wd:Q29004385   wdt:P3781  \n",
       "1       ['wd:Q908221 wdt:P681 ?item']   ['wdt:P681']    wd:Q908221    wdt:P681  \n",
       "2       ['wd:Q408283 wdt:P129 ?item']   ['wdt:P129']    wd:Q408283    wdt:P129  \n",
       "3     ['wd:Q1881253 wdt:P5166 ?item']  ['wdt:P5166']   wd:Q1881253   wdt:P5166  \n",
       "4      ['wd:Q7083106 wdt:P129 ?item']   ['wdt:P129']   wd:Q7083106    wdt:P129  \n",
       "..                                ...            ...           ...         ...  \n",
       "128     ['wd:Q208562 wdt:P780 ?item']   ['wdt:P780']    wd:Q208562    wdt:P780  \n",
       "129  ['wd:Q15367189 wdt:P1843 ?item']  ['wdt:P1843']  wd:Q15367189   wdt:P1843  \n",
       "130   ['?item wdt:P129 wd:Q21123087']   ['wdt:P129']  wd:Q21123087    wdt:P129  \n",
       "131  ['wd:Q17824987 wdt:P2293 ?item']  ['wdt:P2293']  wd:Q17824987   wdt:P2293  \n",
       "132    ['wd:Q7930230 wdt:P276 ?item']   ['wdt:P276']   wd:Q7930230    wdt:P276  \n",
       "\n",
       "[133 rows x 6 columns]"
      ]
     },
     "execution_count": 9,
     "metadata": {},
     "output_type": "execute_result"
    }
   ],
   "source": [
    "s_tr"
   ]
  },
  {
   "cell_type": "code",
   "execution_count": 10,
   "id": "32c3ba21",
   "metadata": {},
   "outputs": [],
   "source": [
    "focus_train = list(s_tr['primary'].values) + list(cs_tr['primary'].values)"
   ]
  },
  {
   "cell_type": "code",
   "execution_count": 11,
   "id": "ae13024a",
   "metadata": {},
   "outputs": [],
   "source": [
    "focus_test = list(s_ts['primary'].values) + list(cs_ts['primary'].values)"
   ]
  },
  {
   "cell_type": "code",
   "execution_count": 12,
   "id": "8424522a",
   "metadata": {
    "scrolled": true
   },
   "outputs": [
    {
     "data": {
      "text/plain": [
       "66"
      ]
     },
     "execution_count": 12,
     "metadata": {},
     "output_type": "execute_result"
    }
   ],
   "source": [
    "len(set(focus_test))"
   ]
  },
  {
   "cell_type": "code",
   "execution_count": 13,
   "id": "e05a3ad2",
   "metadata": {
    "scrolled": true
   },
   "outputs": [
    {
     "data": {
      "text/plain": [
       "251"
      ]
     },
     "execution_count": 13,
     "metadata": {},
     "output_type": "execute_result"
    }
   ],
   "source": [
    "len(set(focus_train))"
   ]
  },
  {
   "cell_type": "code",
   "execution_count": 14,
   "id": "b0c4d9f0",
   "metadata": {
    "scrolled": true
   },
   "outputs": [
    {
     "data": {
      "text/html": [
       "<div>\n",
       "<style scoped>\n",
       "    .dataframe tbody tr th:only-of-type {\n",
       "        vertical-align: middle;\n",
       "    }\n",
       "\n",
       "    .dataframe tbody tr th {\n",
       "        vertical-align: top;\n",
       "    }\n",
       "\n",
       "    .dataframe thead th {\n",
       "        text-align: right;\n",
       "    }\n",
       "</style>\n",
       "<table border=\"1\" class=\"dataframe\">\n",
       "  <thead>\n",
       "    <tr style=\"text-align: right;\">\n",
       "      <th></th>\n",
       "      <th>0</th>\n",
       "      <th>1</th>\n",
       "      <th>query</th>\n",
       "      <th>relations</th>\n",
       "      <th>target</th>\n",
       "      <th>primary</th>\n",
       "      <th>primary_rel</th>\n",
       "      <th>secondary_rel</th>\n",
       "    </tr>\n",
       "  </thead>\n",
       "  <tbody>\n",
       "    <tr>\n",
       "      <th>0</th>\n",
       "      <td>What kind of chromatography is HILIC?</td>\n",
       "      <td>select ?item ?itemLabel\\nwhere {\\n  wd:Q595522...</td>\n",
       "      <td>['wd:Q5955221 (wdt:P31|wdt:P279)* ?item', '?it...</td>\n",
       "      <td>['(wdt:P31|wdt:P279)*', '(wdt:P31|wdt:P279)*']</td>\n",
       "      <td>wd:Q170050</td>\n",
       "      <td>wd:Q5955221</td>\n",
       "      <td>(wdt:P31|wdt:P279)*</td>\n",
       "      <td>(wdt:P31|wdt:P279)*</td>\n",
       "    </tr>\n",
       "    <tr>\n",
       "      <th>1</th>\n",
       "      <td>Which gene is involved in Giant Axonal Neuropa...</td>\n",
       "      <td>select ?item ?itemLabel\\nWhere {\\n  wd:Q333868...</td>\n",
       "      <td>['wd:Q3338682 wdt:P2293 ?item', '?item (wdt:P3...</td>\n",
       "      <td>['wdt:P2293', '(wdt:P31|wdt:P279)*']</td>\n",
       "      <td>wd:Q7187</td>\n",
       "      <td>wd:Q3338682</td>\n",
       "      <td>wdt:P2293</td>\n",
       "      <td>(wdt:P31|wdt:P279)*</td>\n",
       "    </tr>\n",
       "    <tr>\n",
       "      <th>2</th>\n",
       "      <td>Which gene is primarily associated with the Sa...</td>\n",
       "      <td>select ?item ?itemLabel\\nwhere {\\n  wd:Q350868...</td>\n",
       "      <td>['wd:Q3508686 wdt:P2293 ?item', '?item (wdt:P3...</td>\n",
       "      <td>['wdt:P2293', '(wdt:P31|wdt:P279)*']</td>\n",
       "      <td>wd:Q7187</td>\n",
       "      <td>wd:Q3508686</td>\n",
       "      <td>wdt:P2293</td>\n",
       "      <td>(wdt:P31|wdt:P279)*</td>\n",
       "    </tr>\n",
       "    <tr>\n",
       "      <th>3</th>\n",
       "      <td>Which gene is associated with the Mitchell-Ril...</td>\n",
       "      <td>select ?item ?itemLabel\\nWhere {\\n  wd:Q557847...</td>\n",
       "      <td>['wd:Q55784777 wdt:P2293 ?item', '?item (wdt:P...</td>\n",
       "      <td>['wdt:P2293', '(wdt:P31|wdt:P279)*']</td>\n",
       "      <td>wd:Q7187</td>\n",
       "      <td>wd:Q55784777</td>\n",
       "      <td>wdt:P2293</td>\n",
       "      <td>(wdt:P31|wdt:P279)*</td>\n",
       "    </tr>\n",
       "    <tr>\n",
       "      <th>4</th>\n",
       "      <td>Please list the 4 genes involved in Sanfilippo...</td>\n",
       "      <td>select distinct ?item where {\\n  wd:Q2200359 w...</td>\n",
       "      <td>['wd:Q2200359 wdt:P2293 ?item', '?item (wdt:P3...</td>\n",
       "      <td>['wdt:P2293', '(wdt:P31|wdt:P279)*']</td>\n",
       "      <td>wd:Q7187</td>\n",
       "      <td>wd:Q2200359</td>\n",
       "      <td>wdt:P2293</td>\n",
       "      <td>(wdt:P31|wdt:P279)*</td>\n",
       "    </tr>\n",
       "    <tr>\n",
       "      <th>...</th>\n",
       "      <td>...</td>\n",
       "      <td>...</td>\n",
       "      <td>...</td>\n",
       "      <td>...</td>\n",
       "      <td>...</td>\n",
       "      <td>...</td>\n",
       "      <td>...</td>\n",
       "      <td>...</td>\n",
       "    </tr>\n",
       "    <tr>\n",
       "      <th>131</th>\n",
       "      <td>What gene is mutated in Huntingtons disease?</td>\n",
       "      <td>select ?item ?itemLabel\\nWhere {\\n  wd:Q190564...</td>\n",
       "      <td>['wd:Q190564 wdt:P2293 ?item', '?item (wdt:P31...</td>\n",
       "      <td>['wdt:P2293', '(wdt:P31|wdt:P279)*']</td>\n",
       "      <td>wd:Q7187</td>\n",
       "      <td>wd:Q190564</td>\n",
       "      <td>wdt:P2293</td>\n",
       "      <td>(wdt:P31|wdt:P279)*</td>\n",
       "    </tr>\n",
       "    <tr>\n",
       "      <th>132</th>\n",
       "      <td>Which gene is mutated in the classic Bartters ...</td>\n",
       "      <td>select ?item ?itemLabel\\nWhere {\\n  wd:Q276748...</td>\n",
       "      <td>['wd:Q27674849 wdt:P2293 ?item', '?item (wdt:P...</td>\n",
       "      <td>['wdt:P2293', '(wdt:P31|wdt:P279)*']</td>\n",
       "      <td>wd:Q7187</td>\n",
       "      <td>wd:Q27674849</td>\n",
       "      <td>wdt:P2293</td>\n",
       "      <td>(wdt:P31|wdt:P279)*</td>\n",
       "    </tr>\n",
       "    <tr>\n",
       "      <th>133</th>\n",
       "      <td>Which gene cause the Marfan syndrome?</td>\n",
       "      <td>select ?item ?itemLabel\\nWhere {\\n  wd:Q208562...</td>\n",
       "      <td>['wd:Q208562 wdt:P2293 ?item', '?item (wdt:P31...</td>\n",
       "      <td>['wdt:P2293', '(wdt:P31|wdt:P279)*']</td>\n",
       "      <td>wd:Q7187</td>\n",
       "      <td>wd:Q208562</td>\n",
       "      <td>wdt:P2293</td>\n",
       "      <td>(wdt:P31|wdt:P279)*</td>\n",
       "    </tr>\n",
       "    <tr>\n",
       "      <th>134</th>\n",
       "      <td>Which disease is associated with DNAJB1-PRKACA...</td>\n",
       "      <td>select ?item where {\\n  wd:Q29886178 wdt:P3356...</td>\n",
       "      <td>['wd:Q29886178 wdt:P3356 ?item', '?item (wdt:P...</td>\n",
       "      <td>['wdt:P3356', '(wdt:P31|wdt:P279)*']</td>\n",
       "      <td>wd:Q12136</td>\n",
       "      <td>wd:Q29886178</td>\n",
       "      <td>wdt:P3356</td>\n",
       "      <td>(wdt:P31|wdt:P279)*</td>\n",
       "    </tr>\n",
       "    <tr>\n",
       "      <th>135</th>\n",
       "      <td>What fruit causes Jamaican vomiting sickness?</td>\n",
       "      <td>select ?item ?itemLabel\\nWhere {\\n  wd:Q784988...</td>\n",
       "      <td>['wd:Q784988 wdt:P828 ?item', '?item (wdt:P31|...</td>\n",
       "      <td>['wdt:P828', '(wdt:P31|wdt:P279)*']</td>\n",
       "      <td>wd:Q3314483</td>\n",
       "      <td>wd:Q784988</td>\n",
       "      <td>wdt:P828</td>\n",
       "      <td>(wdt:P31|wdt:P279)*</td>\n",
       "    </tr>\n",
       "  </tbody>\n",
       "</table>\n",
       "<p>136 rows × 8 columns</p>\n",
       "</div>"
      ],
      "text/plain": [
       "                                                     0  \\\n",
       "0                What kind of chromatography is HILIC?   \n",
       "1    Which gene is involved in Giant Axonal Neuropa...   \n",
       "2    Which gene is primarily associated with the Sa...   \n",
       "3    Which gene is associated with the Mitchell-Ril...   \n",
       "4    Please list the 4 genes involved in Sanfilippo...   \n",
       "..                                                 ...   \n",
       "131       What gene is mutated in Huntingtons disease?   \n",
       "132  Which gene is mutated in the classic Bartters ...   \n",
       "133              Which gene cause the Marfan syndrome?   \n",
       "134  Which disease is associated with DNAJB1-PRKACA...   \n",
       "135      What fruit causes Jamaican vomiting sickness?   \n",
       "\n",
       "                                                     1  \\\n",
       "0    select ?item ?itemLabel\\nwhere {\\n  wd:Q595522...   \n",
       "1    select ?item ?itemLabel\\nWhere {\\n  wd:Q333868...   \n",
       "2    select ?item ?itemLabel\\nwhere {\\n  wd:Q350868...   \n",
       "3    select ?item ?itemLabel\\nWhere {\\n  wd:Q557847...   \n",
       "4    select distinct ?item where {\\n  wd:Q2200359 w...   \n",
       "..                                                 ...   \n",
       "131  select ?item ?itemLabel\\nWhere {\\n  wd:Q190564...   \n",
       "132  select ?item ?itemLabel\\nWhere {\\n  wd:Q276748...   \n",
       "133  select ?item ?itemLabel\\nWhere {\\n  wd:Q208562...   \n",
       "134  select ?item where {\\n  wd:Q29886178 wdt:P3356...   \n",
       "135  select ?item ?itemLabel\\nWhere {\\n  wd:Q784988...   \n",
       "\n",
       "                                                 query  \\\n",
       "0    ['wd:Q5955221 (wdt:P31|wdt:P279)* ?item', '?it...   \n",
       "1    ['wd:Q3338682 wdt:P2293 ?item', '?item (wdt:P3...   \n",
       "2    ['wd:Q3508686 wdt:P2293 ?item', '?item (wdt:P3...   \n",
       "3    ['wd:Q55784777 wdt:P2293 ?item', '?item (wdt:P...   \n",
       "4    ['wd:Q2200359 wdt:P2293 ?item', '?item (wdt:P3...   \n",
       "..                                                 ...   \n",
       "131  ['wd:Q190564 wdt:P2293 ?item', '?item (wdt:P31...   \n",
       "132  ['wd:Q27674849 wdt:P2293 ?item', '?item (wdt:P...   \n",
       "133  ['wd:Q208562 wdt:P2293 ?item', '?item (wdt:P31...   \n",
       "134  ['wd:Q29886178 wdt:P3356 ?item', '?item (wdt:P...   \n",
       "135  ['wd:Q784988 wdt:P828 ?item', '?item (wdt:P31|...   \n",
       "\n",
       "                                          relations       target  \\\n",
       "0    ['(wdt:P31|wdt:P279)*', '(wdt:P31|wdt:P279)*']   wd:Q170050   \n",
       "1              ['wdt:P2293', '(wdt:P31|wdt:P279)*']     wd:Q7187   \n",
       "2              ['wdt:P2293', '(wdt:P31|wdt:P279)*']     wd:Q7187   \n",
       "3              ['wdt:P2293', '(wdt:P31|wdt:P279)*']     wd:Q7187   \n",
       "4              ['wdt:P2293', '(wdt:P31|wdt:P279)*']     wd:Q7187   \n",
       "..                                              ...          ...   \n",
       "131            ['wdt:P2293', '(wdt:P31|wdt:P279)*']     wd:Q7187   \n",
       "132            ['wdt:P2293', '(wdt:P31|wdt:P279)*']     wd:Q7187   \n",
       "133            ['wdt:P2293', '(wdt:P31|wdt:P279)*']     wd:Q7187   \n",
       "134            ['wdt:P3356', '(wdt:P31|wdt:P279)*']    wd:Q12136   \n",
       "135             ['wdt:P828', '(wdt:P31|wdt:P279)*']  wd:Q3314483   \n",
       "\n",
       "          primary          primary_rel        secondary_rel  \n",
       "0     wd:Q5955221  (wdt:P31|wdt:P279)*  (wdt:P31|wdt:P279)*  \n",
       "1     wd:Q3338682            wdt:P2293  (wdt:P31|wdt:P279)*  \n",
       "2     wd:Q3508686            wdt:P2293  (wdt:P31|wdt:P279)*  \n",
       "3    wd:Q55784777            wdt:P2293  (wdt:P31|wdt:P279)*  \n",
       "4     wd:Q2200359            wdt:P2293  (wdt:P31|wdt:P279)*  \n",
       "..            ...                  ...                  ...  \n",
       "131    wd:Q190564            wdt:P2293  (wdt:P31|wdt:P279)*  \n",
       "132  wd:Q27674849            wdt:P2293  (wdt:P31|wdt:P279)*  \n",
       "133    wd:Q208562            wdt:P2293  (wdt:P31|wdt:P279)*  \n",
       "134  wd:Q29886178            wdt:P3356  (wdt:P31|wdt:P279)*  \n",
       "135    wd:Q784988             wdt:P828  (wdt:P31|wdt:P279)*  \n",
       "\n",
       "[136 rows x 8 columns]"
      ]
     },
     "execution_count": 14,
     "metadata": {},
     "output_type": "execute_result"
    }
   ],
   "source": [
    "cs_tr"
   ]
  },
  {
   "cell_type": "code",
   "execution_count": 15,
   "id": "c5702f3d",
   "metadata": {},
   "outputs": [],
   "source": [
    "target_train = list(cs_tr['target'].values)\n",
    "target_test = list(cs_ts['target'].values)"
   ]
  },
  {
   "cell_type": "code",
   "execution_count": 16,
   "id": "21c285d7",
   "metadata": {},
   "outputs": [
    {
     "data": {
      "text/plain": [
       "40"
      ]
     },
     "execution_count": 16,
     "metadata": {},
     "output_type": "execute_result"
    }
   ],
   "source": [
    "len(set(target_train))"
   ]
  },
  {
   "cell_type": "code",
   "execution_count": 17,
   "id": "035ef1af",
   "metadata": {},
   "outputs": [
    {
     "data": {
      "text/plain": [
       "12"
      ]
     },
     "execution_count": 17,
     "metadata": {},
     "output_type": "execute_result"
    }
   ],
   "source": [
    "len(set(target_test))"
   ]
  },
  {
   "cell_type": "code",
   "execution_count": 18,
   "id": "0309d90e",
   "metadata": {},
   "outputs": [],
   "source": [
    "relation_train = list(s_tr['primary_rel'].values) + list(cs_tr['primary_rel'].values)\n",
    "relation_test = list(s_ts['primary_rel'].values) + list(cs_ts['primary_rel'].values)"
   ]
  },
  {
   "cell_type": "code",
   "execution_count": 19,
   "id": "9290e6b9",
   "metadata": {},
   "outputs": [
    {
     "data": {
      "text/plain": [
       "42"
      ]
     },
     "execution_count": 19,
     "metadata": {},
     "output_type": "execute_result"
    }
   ],
   "source": [
    "len(set(relation_train))"
   ]
  },
  {
   "cell_type": "code",
   "execution_count": 20,
   "id": "5741fce0",
   "metadata": {},
   "outputs": [
    {
     "data": {
      "text/plain": [
       "20"
      ]
     },
     "execution_count": 20,
     "metadata": {},
     "output_type": "execute_result"
    }
   ],
   "source": [
    "len(set(relation_test))"
   ]
  },
  {
   "cell_type": "code",
   "execution_count": null,
   "id": "124fb7e9",
   "metadata": {},
   "outputs": [],
   "source": []
  }
 ],
 "metadata": {
  "kernelspec": {
   "display_name": "Python 3 (ipykernel)",
   "language": "python",
   "name": "python3"
  },
  "language_info": {
   "codemirror_mode": {
    "name": "ipython",
    "version": 3
   },
   "file_extension": ".py",
   "mimetype": "text/x-python",
   "name": "python",
   "nbconvert_exporter": "python",
   "pygments_lexer": "ipython3",
   "version": "3.10.9"
  }
 },
 "nbformat": 4,
 "nbformat_minor": 5
}
