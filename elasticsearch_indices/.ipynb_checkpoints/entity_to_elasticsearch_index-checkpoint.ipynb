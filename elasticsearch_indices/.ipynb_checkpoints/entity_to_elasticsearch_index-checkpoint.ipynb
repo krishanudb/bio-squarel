{
 "cells": [
  {
   "cell_type": "markdown",
   "id": "260a38c6",
   "metadata": {},
   "source": [
    "## This notebook contains the code for creating the search index with ElasticSearch using the entity labels \n",
    "\n",
    "#### Required Files: \n",
    "2 Files containing the preferred labels (primary labels) and alternate labels (secondary labels) of all the entities in the Wikidata-Biomedical SubGraph.\n",
    "\n",
    "Refer to the Readme for instructions for getting the files."
   ]
  },
  {
   "cell_type": "code",
   "execution_count": 1,
   "id": "d2946a41",
   "metadata": {},
   "outputs": [],
   "source": [
    "import pandas as pd"
   ]
  },
  {
   "cell_type": "code",
   "execution_count": 2,
   "id": "0d7dce0b",
   "metadata": {},
   "outputs": [],
   "source": [
    "## Code for removing the emoticons, symbols etc from the labels\n",
    "import re\n",
    "def remove_emojis(data):\n",
    "    emoj = re.compile(\"[\"\n",
    "        u\"\\U0001F600-\\U0001F64F\"  # emoticons\n",
    "        u\"\\U0001F300-\\U0001F5FF\"  # symbols & pictographs\n",
    "        u\"\\U0001F680-\\U0001F6FF\"  # transport & map symbols\n",
    "        u\"\\U0001F1E0-\\U0001F1FF\"  # flags (iOS)\n",
    "        u\"\\U00002500-\\U00002BEF\"  # chinese char\n",
    "        u\"\\U00002702-\\U000027B0\"\n",
    "        u\"\\U00002702-\\U000027B0\"\n",
    "        u\"\\U000024C2-\\U0001F251\"\n",
    "        u\"\\U0001f926-\\U0001f937\"\n",
    "        u\"\\U00010000-\\U0010ffff\"\n",
    "        u\"\\u2640-\\u2642\" \n",
    "        u\"\\u2600-\\u2B55\"\n",
    "        u\"\\u200d\"\n",
    "        u\"\\u23cf\"\n",
    "        u\"\\u23e9\"\n",
    "        u\"\\u231a\"\n",
    "        u\"\\ufe0f\"  # dingbats\n",
    "        u\"\\u3030\"\n",
    "                      \"]+\", re.UNICODE)\n",
    "    return re.search(emoj, data)"
   ]
  },
  {
   "cell_type": "code",
   "execution_count": 3,
   "id": "1fe24dac",
   "metadata": {},
   "outputs": [],
   "source": [
    "# File locations of the preferred label and alternate labels files\n",
    "\n",
    "# Replace these file locations with the downloaded prefLabel.rdf and altLabel.rdf files.\n",
    "labels_loc = \"preLabels.rdf\"\n",
    "alt_labels_loc = \"altLabels.rdf\""
   ]
  },
  {
   "cell_type": "markdown",
   "id": "6e5a8874",
   "metadata": {},
   "source": [
    "### Loading the preferred label and alternate labels files. \n",
    "This might take some time"
   ]
  },
  {
   "cell_type": "code",
   "execution_count": 4,
   "id": "3f95e95f",
   "metadata": {},
   "outputs": [
    {
     "name": "stdout",
     "output_type": "stream",
     "text": [
      "Starting:  13649572\n",
      "Processed:  13630189\n"
     ]
    }
   ],
   "source": [
    "labels_df = pd.read_csv(labels_loc, sep = \"\\t\", header = None)\n",
    "\n",
    "print(\"Starting: \", len(labels_df))\n",
    "\n",
    "labels_df = labels_df[[0, 2]]\n",
    "labels_df.head()\n",
    "\n",
    "labels_df[2] = labels_df[2].apply(lambda x: x.split(\"@en\")[0] if remove_emojis(x) is None else pd.NA)\n",
    "\n",
    "labels_df = labels_df.drop_duplicates()\n",
    "labels_df = labels_df.dropna()\n",
    "\n",
    "print(\"Processed: \", len(labels_df))\n"
   ]
  },
  {
   "cell_type": "code",
   "execution_count": 5,
   "id": "d9280201",
   "metadata": {},
   "outputs": [
    {
     "name": "stdout",
     "output_type": "stream",
     "text": [
      "Starting:  4995703\n",
      "Processed:  4994795\n"
     ]
    }
   ],
   "source": [
    "alt_labels_df = pd.read_csv(alt_labels_loc, sep = \"\\t\", header = None)\n",
    "print(\"Starting: \", len(alt_labels_df))\n",
    "alt_labels_df.head()\n",
    "\n",
    "alt_labels_df = alt_labels_df[[0, 2]]\n",
    "alt_labels_df.head()\n",
    "\n",
    "alt_labels_df[2] = alt_labels_df[2].apply(lambda x: x.split(\"@en\")[0] if remove_emojis(x) is None else pd.NA)\n",
    "alt_labels_df.head()\n",
    "\n",
    "alt_labels_df = alt_labels_df.drop_duplicates()\n",
    "\n",
    "alt_labels_df = alt_labels_df.dropna()\n",
    "print(\"Processed: \", len(alt_labels_df))\n"
   ]
  },
  {
   "cell_type": "markdown",
   "id": "2db9355a",
   "metadata": {},
   "source": [
    "### Concatenating the preferred label and alternate label data"
   ]
  },
  {
   "cell_type": "code",
   "execution_count": 6,
   "id": "941cad82",
   "metadata": {},
   "outputs": [],
   "source": [
    "all_labels_df = pd.concat([labels_df, alt_labels_df], ignore_index=True)\n",
    "all_labels_df.columns = [\"uri\", \"label\"]"
   ]
  },
  {
   "cell_type": "code",
   "execution_count": 7,
   "id": "66a577fe",
   "metadata": {
    "scrolled": true
   },
   "outputs": [
    {
     "data": {
      "text/html": [
       "<div>\n",
       "<style scoped>\n",
       "    .dataframe tbody tr th:only-of-type {\n",
       "        vertical-align: middle;\n",
       "    }\n",
       "\n",
       "    .dataframe tbody tr th {\n",
       "        vertical-align: top;\n",
       "    }\n",
       "\n",
       "    .dataframe thead th {\n",
       "        text-align: right;\n",
       "    }\n",
       "</style>\n",
       "<table border=\"1\" class=\"dataframe\">\n",
       "  <thead>\n",
       "    <tr style=\"text-align: right;\">\n",
       "      <th></th>\n",
       "      <th>uri</th>\n",
       "      <th>label</th>\n",
       "    </tr>\n",
       "  </thead>\n",
       "  <tbody>\n",
       "    <tr>\n",
       "      <th>18624979</th>\n",
       "      <td>wd:Q113656636</td>\n",
       "      <td>CIBT</td>\n",
       "    </tr>\n",
       "    <tr>\n",
       "      <th>18624980</th>\n",
       "      <td>wd:Q113657342</td>\n",
       "      <td>Hijokaidan albums discography</td>\n",
       "    </tr>\n",
       "    <tr>\n",
       "      <th>18624981</th>\n",
       "      <td>wd:Q113657342</td>\n",
       "      <td>Hijokaidan discography - albums</td>\n",
       "    </tr>\n",
       "    <tr>\n",
       "      <th>18624982</th>\n",
       "      <td>wd:Q113657355</td>\n",
       "      <td>tone or pitch accent</td>\n",
       "    </tr>\n",
       "    <tr>\n",
       "      <th>18624983</th>\n",
       "      <td>wd:Q113657830</td>\n",
       "      <td>Method of designating colors</td>\n",
       "    </tr>\n",
       "  </tbody>\n",
       "</table>\n",
       "</div>"
      ],
      "text/plain": [
       "                    uri                            label\n",
       "18624979  wd:Q113656636                             CIBT\n",
       "18624980  wd:Q113657342    Hijokaidan albums discography\n",
       "18624981  wd:Q113657342  Hijokaidan discography - albums\n",
       "18624982  wd:Q113657355             tone or pitch accent\n",
       "18624983  wd:Q113657830     Method of designating colors"
      ]
     },
     "execution_count": 7,
     "metadata": {},
     "output_type": "execute_result"
    }
   ],
   "source": [
    "all_labels_df.tail()"
   ]
  },
  {
   "cell_type": "markdown",
   "id": "84c9a480",
   "metadata": {},
   "source": [
    "## Processing the entity URIs"
   ]
  },
  {
   "cell_type": "code",
   "execution_count": 8,
   "id": "7ac5766b",
   "metadata": {},
   "outputs": [],
   "source": [
    "all_labels_df['uri'] = all_labels_df['uri'].apply(lambda x: \"<https://www.wikidata.org/wiki/\" + x.split(\":\")[-1] + \">\" )"
   ]
  },
  {
   "cell_type": "markdown",
   "id": "860ac206",
   "metadata": {},
   "source": [
    "### Creating a new search index in ElasticSearch\n",
    "\n",
    "If the SEARCH_INDEX_NAME variable is changed, it needs to be updated in the evaluation notebooks as well."
   ]
  },
  {
   "cell_type": "code",
   "execution_count": 9,
   "id": "32e59416",
   "metadata": {},
   "outputs": [
    {
     "name": "stderr",
     "output_type": "stream",
     "text": [
      "/tmp/ipykernel_364423/1117748758.py:10: DeprecationWarning: Using positional arguments for APIs is deprecated and will be disabled in 8.0.0. Instead use only keyword arguments for all APIs. See https://github.com/elastic/elasticsearch-py/issues/1698 for more information\n",
      "  if es.indices.exists(SEARCH_INDEX_NAME):\n"
     ]
    },
    {
     "data": {
      "text/plain": [
       "{'acknowledged': True,\n",
       " 'shards_acknowledged': True,\n",
       " 'index': 'wikidata_bio_entity_index'}"
      ]
     },
     "execution_count": 9,
     "metadata": {},
     "output_type": "execute_result"
    }
   ],
   "source": [
    "import elasticsearch\n",
    "config = {\n",
    "    'host': 'localhost'\n",
    "}\n",
    "\n",
    "es = elasticsearch.Elasticsearch([config,], timeout=300)\n",
    "\n",
    "SEARCH_INDEX_NAME = \"wikidata_bio_entity_index\"\n",
    "\n",
    "if es.indices.exists(SEARCH_INDEX_NAME):\n",
    "    es.indices.delete(index=SEARCH_INDEX_NAME)\n",
    "es.indices.create(index=SEARCH_INDEX_NAME)"
   ]
  },
  {
   "cell_type": "code",
   "execution_count": 10,
   "id": "f3716691",
   "metadata": {},
   "outputs": [
    {
     "data": {
      "application/vnd.jupyter.widget-view+json": {
       "model_id": "c7fb569a10554de3a7f9dc0042f58db5",
       "version_major": 2,
       "version_minor": 0
      },
      "text/plain": [
       "0it [00:00, ?it/s]"
      ]
     },
     "metadata": {},
     "output_type": "display_data"
    },
    {
     "name": "stderr",
     "output_type": "stream",
     "text": [
      "/home/krishanu/anaconda3/envs/pytorch/lib/python3.10/site-packages/elasticsearch/connection/base.py:200: ElasticsearchWarning: [types removal] Specifying types in bulk requests is deprecated.\n",
      "  warnings.warn(message, category=ElasticsearchWarning)\n"
     ]
    },
    {
     "data": {
      "text/plain": [
       "(18624984, [])"
      ]
     },
     "execution_count": 10,
     "metadata": {},
     "output_type": "execute_result"
    }
   ],
   "source": [
    "from elasticsearch import helpers\n",
    "import tqdm.notebook as tq\n",
    "\n",
    "def doc_generator(df, index_name):\n",
    "    df_iter = df.iterrows()\n",
    "    for index, document in tq.tqdm(df_iter):\n",
    "        yield {\n",
    "                \"_index\": index_name,\n",
    "                \"_type\": \"_doc\",\n",
    "                \"_id\" : f\"{index+1}\",\n",
    "                \"_source\": document.to_dict(),\n",
    "            }\n",
    "        \n",
    "    \n",
    "    \n",
    "elasticsearch.helpers.bulk(es, doc_generator(all_labels_df, index_name=SEARCH_INDEX_NAME))"
   ]
  },
  {
   "cell_type": "markdown",
   "id": "f0d5341e",
   "metadata": {},
   "source": [
    "### Sanity Check: Is the Index working"
   ]
  },
  {
   "cell_type": "code",
   "execution_count": 13,
   "id": "2354b343",
   "metadata": {},
   "outputs": [
    {
     "data": {
      "text/plain": [
       "'happiness'"
      ]
     },
     "execution_count": 13,
     "metadata": {},
     "output_type": "execute_result"
    }
   ],
   "source": [
    "text = all_labels_df[\"label\"][0]\n",
    "text"
   ]
  },
  {
   "cell_type": "code",
   "execution_count": 16,
   "id": "902016e0",
   "metadata": {},
   "outputs": [
    {
     "name": "stdout",
     "output_type": "stream",
     "text": [
      "{'_index': 'wikidata_bio_entity_index', '_type': '_doc', '_id': '17064339', '_score': 5.541134, '_source': {'uri': '<https://www.wikidata.org/wiki/Q23627524>', 'label': 'proteic killer protein'}}\n"
     ]
    },
    {
     "name": "stderr",
     "output_type": "stream",
     "text": [
      "/tmp/ipykernel_364423/3386206687.py:1: DeprecationWarning: The 'body' parameter is deprecated for the 'search' API and will be removed in a future version. Instead use API parameters directly. See https://github.com/elastic/elasticsearch-py/issues/1698 for more information\n",
      "  elasticResults=es.search(index=SEARCH_INDEX_NAME, body={\n"
     ]
    }
   ],
   "source": [
    "elasticResults=es.search(index=SEARCH_INDEX_NAME, body={\n",
    "    \"query\": {\n",
    "        \"match\" : {\n",
    "            \"label\" : {\n",
    "                \"query\" : \"protein\",\n",
    "                \"fuzziness\": \"AUTO\"\n",
    "                    }\n",
    "                }\n",
    "            },\n",
    "            \"size\":100\n",
    "        }\n",
    "    )\n",
    "\n",
    "print(elasticResults[\"hits\"][\"hits\"][0])"
   ]
  },
  {
   "cell_type": "code",
   "execution_count": null,
   "id": "436aba7e",
   "metadata": {},
   "outputs": [],
   "source": []
  }
 ],
 "metadata": {
  "kernelspec": {
   "display_name": "Python 3 (ipykernel)",
   "language": "python",
   "name": "python3"
  },
  "language_info": {
   "codemirror_mode": {
    "name": "ipython",
    "version": 3
   },
   "file_extension": ".py",
   "mimetype": "text/x-python",
   "name": "python",
   "nbconvert_exporter": "python",
   "pygments_lexer": "ipython3",
   "version": "3.10.9"
  }
 },
 "nbformat": 4,
 "nbformat_minor": 5
}
