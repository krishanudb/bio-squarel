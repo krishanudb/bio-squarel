{
 "cells": [
  {
   "cell_type": "markdown",
   "id": "2bd07708",
   "metadata": {},
   "source": [
    "## This notebook contains the code for creating the search index with ElasticSearch using the entity labels \n",
    "\n",
    "#### Required Files: \n",
    "relations_labels.csv"
   ]
  },
  {
   "cell_type": "code",
   "execution_count": 1,
   "id": "00579b30",
   "metadata": {},
   "outputs": [],
   "source": [
    "import pandas as pd"
   ]
  },
  {
   "cell_type": "code",
   "execution_count": 2,
   "id": "ef1901b3",
   "metadata": {},
   "outputs": [],
   "source": [
    "import re\n",
    "def remove_emojis(data):\n",
    "    emoj = re.compile(\"[\"\n",
    "        u\"\\U0001F600-\\U0001F64F\"  # emoticons\n",
    "        u\"\\U0001F300-\\U0001F5FF\"  # symbols & pictographs\n",
    "        u\"\\U0001F680-\\U0001F6FF\"  # transport & map symbols\n",
    "        u\"\\U0001F1E0-\\U0001F1FF\"  # flags (iOS)\n",
    "        u\"\\U00002500-\\U00002BEF\"  # chinese char\n",
    "        u\"\\U00002702-\\U000027B0\"\n",
    "        u\"\\U00002702-\\U000027B0\"\n",
    "        u\"\\U000024C2-\\U0001F251\"\n",
    "        u\"\\U0001f926-\\U0001f937\"\n",
    "        u\"\\U00010000-\\U0010ffff\"\n",
    "        u\"\\u2640-\\u2642\" \n",
    "        u\"\\u2600-\\u2B55\"\n",
    "        u\"\\u200d\"\n",
    "        u\"\\u23cf\"\n",
    "        u\"\\u23e9\"\n",
    "        u\"\\u231a\"\n",
    "        u\"\\ufe0f\"  # dingbats\n",
    "        u\"\\u3030\"\n",
    "                      \"]+\", re.UNICODE)\n",
    "    return re.search(emoj, data)"
   ]
  },
  {
   "cell_type": "code",
   "execution_count": 3,
   "id": "cbe89a99",
   "metadata": {},
   "outputs": [],
   "source": [
    "RELATIONS_FILE = \"relations_labels.csv\""
   ]
  },
  {
   "cell_type": "code",
   "execution_count": 4,
   "id": "a1123a9b",
   "metadata": {},
   "outputs": [
    {
     "name": "stdout",
     "output_type": "stream",
     "text": [
      "Starting:  964\n"
     ]
    }
   ],
   "source": [
    "labels_df = pd.read_csv(RELATIONS_FILE)\n",
    "\n",
    "print(\"Starting: \", len(labels_df))\n"
   ]
  },
  {
   "cell_type": "code",
   "execution_count": 5,
   "id": "b09c2daf",
   "metadata": {},
   "outputs": [
    {
     "data": {
      "text/html": [
       "<div>\n",
       "<style scoped>\n",
       "    .dataframe tbody tr th:only-of-type {\n",
       "        vertical-align: middle;\n",
       "    }\n",
       "\n",
       "    .dataframe tbody tr th {\n",
       "        vertical-align: top;\n",
       "    }\n",
       "\n",
       "    .dataframe thead th {\n",
       "        text-align: right;\n",
       "    }\n",
       "</style>\n",
       "<table border=\"1\" class=\"dataframe\">\n",
       "  <thead>\n",
       "    <tr style=\"text-align: right;\">\n",
       "      <th></th>\n",
       "      <th>uri</th>\n",
       "      <th>label</th>\n",
       "    </tr>\n",
       "  </thead>\n",
       "  <tbody>\n",
       "    <tr>\n",
       "      <th>0</th>\n",
       "      <td>&lt;http://www.wikidata.org/entity/P4882&gt;</td>\n",
       "      <td>segmental innervation</td>\n",
       "    </tr>\n",
       "    <tr>\n",
       "      <th>1</th>\n",
       "      <td>&lt;http://www.wikidata.org/entity/P1339&gt;</td>\n",
       "      <td>number injured</td>\n",
       "    </tr>\n",
       "    <tr>\n",
       "      <th>2</th>\n",
       "      <td>&lt;http://www.wikidata.org/entity/P1339&gt;</td>\n",
       "      <td>injury toll</td>\n",
       "    </tr>\n",
       "    <tr>\n",
       "      <th>3</th>\n",
       "      <td>&lt;http://www.wikidata.org/entity/P1339&gt;</td>\n",
       "      <td>number of injured</td>\n",
       "    </tr>\n",
       "    <tr>\n",
       "      <th>4</th>\n",
       "      <td>&lt;http://www.wikidata.org/entity/P1339&gt;</td>\n",
       "      <td>injured</td>\n",
       "    </tr>\n",
       "  </tbody>\n",
       "</table>\n",
       "</div>"
      ],
      "text/plain": [
       "                                      uri                  label\n",
       "0  <http://www.wikidata.org/entity/P4882>  segmental innervation\n",
       "1  <http://www.wikidata.org/entity/P1339>         number injured\n",
       "2  <http://www.wikidata.org/entity/P1339>            injury toll\n",
       "3  <http://www.wikidata.org/entity/P1339>      number of injured\n",
       "4  <http://www.wikidata.org/entity/P1339>                injured"
      ]
     },
     "execution_count": 5,
     "metadata": {},
     "output_type": "execute_result"
    }
   ],
   "source": [
    "labels_df.head()"
   ]
  },
  {
   "cell_type": "markdown",
   "id": "2396c4f3",
   "metadata": {},
   "source": [
    "### Connecting to elasticsearch runtime"
   ]
  },
  {
   "cell_type": "code",
   "execution_count": 6,
   "id": "9fb54ad5",
   "metadata": {},
   "outputs": [],
   "source": [
    "import elasticsearch\n",
    "config = {\n",
    "    'host': 'localhost'\n",
    "}\n",
    "es = elasticsearch.Elasticsearch([config,], timeout=300)"
   ]
  },
  {
   "cell_type": "markdown",
   "id": "934ae220",
   "metadata": {},
   "source": [
    "### Creating a new index in elasticsearch and populating it with the predicates' labels"
   ]
  },
  {
   "cell_type": "code",
   "execution_count": 7,
   "id": "c6852c60",
   "metadata": {},
   "outputs": [
    {
     "name": "stderr",
     "output_type": "stream",
     "text": [
      "/tmp/ipykernel_373464/2144286192.py:3: DeprecationWarning: Using positional arguments for APIs is deprecated and will be disabled in 8.0.0. Instead use only keyword arguments for all APIs. See https://github.com/elastic/elasticsearch-py/issues/1698 for more information\n",
      "  if es.indices.exists(RELATION_INDEX):\n"
     ]
    },
    {
     "data": {
      "text/plain": [
       "{'acknowledged': True,\n",
       " 'shards_acknowledged': True,\n",
       " 'index': 'wikidata_bio_relation_index'}"
      ]
     },
     "execution_count": 7,
     "metadata": {},
     "output_type": "execute_result"
    }
   ],
   "source": [
    "RELATION_INDEX = \"wikidata_bio_relation_index\"\n",
    "\n",
    "if es.indices.exists(RELATION_INDEX):\n",
    "    es.indices.delete(index=RELATION_INDEX)\n",
    "\n",
    "es.indices.create(index=RELATION_INDEX)"
   ]
  },
  {
   "cell_type": "code",
   "execution_count": 8,
   "id": "8c87c770",
   "metadata": {},
   "outputs": [
    {
     "data": {
      "application/vnd.jupyter.widget-view+json": {
       "model_id": "db69555d5324454da3a03f9cb48d8901",
       "version_major": 2,
       "version_minor": 0
      },
      "text/plain": [
       "0it [00:00, ?it/s]"
      ]
     },
     "metadata": {},
     "output_type": "display_data"
    },
    {
     "name": "stdout",
     "output_type": "stream",
     "text": [
      "Complete\n"
     ]
    },
    {
     "name": "stderr",
     "output_type": "stream",
     "text": [
      "/home/krishanu/anaconda3/envs/pytorch/lib/python3.10/site-packages/elasticsearch/connection/base.py:200: ElasticsearchWarning: [types removal] Specifying types in bulk requests is deprecated.\n",
      "  warnings.warn(message, category=ElasticsearchWarning)\n"
     ]
    },
    {
     "data": {
      "text/plain": [
       "(964, [])"
      ]
     },
     "execution_count": 8,
     "metadata": {},
     "output_type": "execute_result"
    }
   ],
   "source": [
    "from elasticsearch import helpers\n",
    "import tqdm.notebook as tq\n",
    "\n",
    "def doc_generator(df):\n",
    "    df_iter = df.iterrows()\n",
    "    for index, document in tq.tqdm(df_iter):\n",
    "#         print(document.to_dict())\n",
    "        yield {\n",
    "                \"_index\": 'wikidata_bio_relation_index',\n",
    "                \"_type\": \"_doc\",\n",
    "                \"_id\" : f\"{index+1}\",\n",
    "                \"_source\": document.to_dict(),\n",
    "            }\n",
    "    print(\"Complete\")\n",
    "\n",
    "elasticsearch.helpers.bulk(es, doc_generator(labels_df))"
   ]
  },
  {
   "cell_type": "markdown",
   "id": "98963290",
   "metadata": {},
   "source": [
    "### Sanity Check: Is the Index working"
   ]
  },
  {
   "cell_type": "code",
   "execution_count": 9,
   "id": "8eb49c12",
   "metadata": {},
   "outputs": [
    {
     "name": "stdout",
     "output_type": "stream",
     "text": [
      "{'took': 0, 'timed_out': False, '_shards': {'total': 1, 'successful': 1, 'skipped': 0, 'failed': 0}, 'hits': {'total': {'value': 3, 'relation': 'eq'}, 'max_score': 5.972643, 'hits': [{'_index': 'wikidata_bio_relation_index', '_type': '_doc', '_id': '281', '_score': 5.972643, '_source': {'uri': '<http://www.wikidata.org/entity/P3335>', 'label': 'associated hazard'}}, {'_index': 'wikidata_bio_relation_index', '_type': '_doc', '_id': '706', '_score': 5.037065, '_source': {'uri': '<http://www.wikidata.org/entity/P868>', 'label': 'foods traditionally associated'}}, {'_index': 'wikidata_bio_relation_index', '_type': '_doc', '_id': '848', '_score': 5.037065, '_source': {'uri': '<http://www.wikidata.org/entity/P2293>', 'label': 'genetically associated with'}}]}}\n"
     ]
    },
    {
     "name": "stderr",
     "output_type": "stream",
     "text": [
      "/tmp/ipykernel_373464/362170652.py:2: DeprecationWarning: The 'body' parameter is deprecated for the 'search' API and will be removed in a future version. Instead use API parameters directly. See https://github.com/elastic/elasticsearch-py/issues/1698 for more information\n",
      "  elasticResults=es.search(index=indexName, body={\n"
     ]
    }
   ],
   "source": [
    "indexName=\"wikidata_bio_relation_index\"\n",
    "elasticResults=es.search(index=indexName, body={\n",
    "        \"from\": 0,\n",
    "        \"size\": 100,\n",
    "        \"query\": {\n",
    "            \"match\": {\n",
    "                \"label\":\"associated\"\n",
    "            }\n",
    "        }\n",
    "    })\n",
    "\n",
    "print(elasticResults)"
   ]
  },
  {
   "cell_type": "code",
   "execution_count": null,
   "id": "378188e5",
   "metadata": {},
   "outputs": [],
   "source": []
  }
 ],
 "metadata": {
  "kernelspec": {
   "display_name": "Python 3 (ipykernel)",
   "language": "python",
   "name": "python3"
  },
  "language_info": {
   "codemirror_mode": {
    "name": "ipython",
    "version": 3
   },
   "file_extension": ".py",
   "mimetype": "text/x-python",
   "name": "python",
   "nbconvert_exporter": "python",
   "pygments_lexer": "ipython3",
   "version": "3.10.9"
  }
 },
 "nbformat": 4,
 "nbformat_minor": 5
}
